{
  "nbformat": 4,
  "nbformat_minor": 0,
  "metadata": {
    "colab": {
      "name": "blinkDetection.ipynb",
      "provenance": [],
      "collapsed_sections": []
    },
    "kernelspec": {
      "name": "python3",
      "display_name": "Python 3"
    },
    "accelerator": "GPU"
  },
  "cells": [
    {
      "cell_type": "code",
      "source": [
        "! pip install tensorflow==2.4.1"
      ],
      "metadata": {
        "id": "gwRHzL8Mq2qz"
      },
      "execution_count": null,
      "outputs": []
    },
    {
      "cell_type": "code",
      "metadata": {
        "id": "00IHeD31T11u",
        "colab": {
          "base_uri": "https://localhost:8080/"
        },
        "outputId": "a0bb0d58-ee3c-4208-ec2b-c4b5cbb54aa4"
      },
      "source": [
        "# Import tensorflow and print current version\n",
        "import tensorflow as tf\n",
        "print(tf.__version__)"
      ],
      "execution_count": null,
      "outputs": [
        {
          "output_type": "stream",
          "name": "stdout",
          "text": [
            "2.4.1\n"
          ]
        }
      ]
    },
    {
      "cell_type": "code",
      "metadata": {
        "id": "0nVObatMICGp"
      },
      "source": [
        "# Import rest of libraries used in the code. Usually this is done at the beginning of the document but it can be done at any position\n",
        "import numpy as np\n",
        "import matplotlib.pyplot as plt\n",
        "from tensorflow.keras.models import Sequential\n",
        "import os\n",
        "import random"
      ],
      "execution_count": null,
      "outputs": []
    },
    {
      "cell_type": "code",
      "source": [
        "theSEED = 232323\n",
        "tf.random.set_seed(theSEED)\n",
        "np.random.seed(theSEED)\n",
        "random.seed(theSEED)"
      ],
      "metadata": {
        "id": "eR4oS6ANE4-B"
      },
      "execution_count": null,
      "outputs": []
    },
    {
      "cell_type": "code",
      "metadata": {
        "id": "4aX4ErzAn7sV"
      },
      "source": [
        "# Hyperparameters:\n",
        "# They must be carefully select depending on the dataset and model\n",
        "\n",
        "NB_EPOCH = 25       # Number of training epochs\n",
        "VALIDATION_SPLIT=0.2 # Size of the validation split taken from the training set. If your dataset has validation split, skip this part."
      ],
      "execution_count": null,
      "outputs": []
    },
    {
      "cell_type": "markdown",
      "metadata": {
        "id": "uSMXa5CwuK2Y"
      },
      "source": [
        "Cargamos el dataset:"
      ]
    },
    {
      "cell_type": "code",
      "metadata": {
        "id": "6AaT09KdT5dr",
        "colab": {
          "base_uri": "https://localhost:8080/"
        },
        "outputId": "3bfadd52-5a03-4843-ca77-9fae5a4d99a8"
      },
      "source": [
        "from google.colab import drive\n",
        "drive.mount(\"/content/gdrive\")"
      ],
      "execution_count": null,
      "outputs": [
        {
          "output_type": "stream",
          "name": "stdout",
          "text": [
            "Mounted at /content/gdrive\n"
          ]
        }
      ]
    },
    {
      "cell_type": "code",
      "source": [
        "from google.colab import drive\n",
        "drive.mount('/content/drive')"
      ],
      "metadata": {
        "colab": {
          "base_uri": "https://localhost:8080/"
        },
        "id": "-vLll8VMswDU",
        "outputId": "243cfad3-f05d-4013-d964-69330f027c45"
      },
      "execution_count": null,
      "outputs": [
        {
          "output_type": "stream",
          "name": "stdout",
          "text": [
            "Mounted at /content/drive\n"
          ]
        }
      ]
    },
    {
      "cell_type": "code",
      "source": [
        "!mkdir -p '/content/gdrive/MyDrive/Curso-Jetson/imagenes'"
      ],
      "metadata": {
        "id": "xx4q9N77IBxI"
      },
      "execution_count": null,
      "outputs": []
    },
    {
      "cell_type": "code",
      "source": [
        "!gdown --id '14CuNJzfpF-HCOcgYXE1XF0umKIxCScB7' -O '/content/gdrive/MyDrive/Curso-Jetson/imagenes/fruits.zip'"
      ],
      "metadata": {
        "id": "aWSc2vzCHIbH"
      },
      "execution_count": null,
      "outputs": []
    },
    {
      "cell_type": "code",
      "source": [
        "!unzip '/content/gdrive/MyDrive/Curso-Jetson/imagenes/fruits.zip' -d '/content/gdrive/MyDrive/Curso-Jetson/imagenes/'"
      ],
      "metadata": {
        "id": "r_WiKr3bEbFZ"
      },
      "execution_count": null,
      "outputs": []
    },
    {
      "cell_type": "code",
      "metadata": {
        "id": "LtB_SsLMr0ZK"
      },
      "source": [
        "!ls '/content/gdrive/MyDrive/Curso-Jetson/imagenes/fruits'"
      ],
      "execution_count": null,
      "outputs": []
    },
    {
      "cell_type": "code",
      "metadata": {
        "id": "6iKKgDNxqPWS"
      },
      "source": [
        "!ls '/content/gdrive/MyDrive/Curso-Jetson/imagenes/fruits/Training'"
      ],
      "execution_count": null,
      "outputs": []
    },
    {
      "cell_type": "code",
      "metadata": {
        "id": "y6dz7gFK9_2R",
        "colab": {
          "base_uri": "https://localhost:8080/"
        },
        "outputId": "33a0255d-7772-48ba-b196-839ec7920696"
      },
      "source": [
        "train_ds = tf.keras.preprocessing.image_dataset_from_directory(\n",
        "    '/content/gdrive/MyDrive/Curso-Jetson/imagenes/dataset', labels='inferred', subset=\"training\", validation_split=VALIDATION_SPLIT, seed=0)\n",
        "val_ds = tf.keras.preprocessing.image_dataset_from_directory(\n",
        "    '/content/gdrive/MyDrive/Curso-Jetson/imagenes/dataset', labels='inferred', subset=\"validation\", validation_split=VALIDATION_SPLIT, seed=0)"
      ],
      "execution_count": null,
      "outputs": [
        {
          "output_type": "stream",
          "name": "stdout",
          "text": [
            "Found 654 files belonging to 2 classes.\n",
            "Using 524 files for training.\n",
            "Found 654 files belonging to 2 classes.\n",
            "Using 130 files for validation.\n"
          ]
        }
      ]
    },
    {
      "cell_type": "code",
      "metadata": {
        "id": "EbF7NqIpmOEt",
        "colab": {
          "base_uri": "https://localhost:8080/"
        },
        "outputId": "ccb1efae-973b-4534-9ca9-baf6e00708d7"
      },
      "source": [
        "train_ds"
      ],
      "execution_count": null,
      "outputs": [
        {
          "output_type": "execute_result",
          "data": {
            "text/plain": [
              "<MapDataset shapes: ((None, 224, 224, 3), (None,)), types: (tf.float32, tf.int32)>"
            ]
          },
          "metadata": {},
          "execution_count": 15
        }
      ]
    },
    {
      "cell_type": "markdown",
      "metadata": {
        "id": "LBPmarFduNMH"
      },
      "source": [
        "Vamos a visualizar una de las muestras y la clase a la que pertenece:"
      ]
    },
    {
      "cell_type": "code",
      "source": [
        "def process(image,label):\n",
        "    image = tf.image.resize(image, [224, 224])\n",
        "    image = tf.cast(image/255. ,tf.float32)\n",
        "    return image,label\n",
        "\n",
        "train_ds = train_ds.map(process)\n",
        "val_ds = val_ds.map(process)"
      ],
      "metadata": {
        "id": "PhDtBg-YNxNJ"
      },
      "execution_count": null,
      "outputs": []
    },
    {
      "cell_type": "code",
      "source": [
        "#resize_and_rescale = tf.keras.Sequential([\n",
        "#  tf.keras.layers.experimental.preprocessing.Resizing(224, 224),\n",
        "#  tf.keras.layers.experimental.preprocessing.Rescaling(1./255)\n",
        "#])"
      ],
      "metadata": {
        "id": "mgLzkaSdLM3b"
      },
      "execution_count": null,
      "outputs": []
    },
    {
      "cell_type": "code",
      "source": [
        "data_augmentation = tf.keras.Sequential([\n",
        "  tf.keras.layers.experimental.preprocessing.RandomFlip(\"horizontal_and_vertical\"),\n",
        "  tf.keras.layers.experimental.preprocessing.RandomRotation(0.2),\n",
        "  tf.keras.layers.experimental.preprocessing.RandomContrast(0.2),\n",
        "  tf.keras.layers.experimental.preprocessing.RandomZoom((-0.2,0.2),(-0.2,0.2)),\n",
        "])"
      ],
      "metadata": {
        "id": "gTrx_SglMtJt"
      },
      "execution_count": null,
      "outputs": []
    },
    {
      "cell_type": "code",
      "metadata": {
        "id": "Czby5KBaeWuO",
        "colab": {
          "base_uri": "https://localhost:8080/"
        },
        "outputId": "b841e813-8691-488e-f9d3-9073f7b5e158"
      },
      "source": [
        "# Create a pretrained model.\n",
        "base_model = tf.keras.applications.MobileNetV2(\n",
        "  input_tensor=None, include_top=False, \n",
        "  weights='imagenet', input_shape=(224,224,3))\n",
        "base_model.trainable = False\n",
        "\n",
        "model = tf.keras.Sequential()\n",
        "#model.add(resize_and_rescale)\n",
        "model.add(data_augmentation)\n",
        "model.add(base_model)\n",
        "model.add(tf.keras.layers.GlobalAveragePooling2D())\n",
        "#model.add(tf.keras.layers.Dense(300, activation='relu'))\n",
        "model.add(tf.keras.layers.Dropout(0.2))\n",
        "model.add(tf.keras.layers.Dense(100, activation='relu'))\n",
        "model.add(tf.keras.layers.Dropout(0.2))\n",
        "model.add(tf.keras.layers.Dense(2, activation='softmax'))\n",
        "\n",
        "model.build((None, 224,224,3))\n",
        "model.summary()"
      ],
      "execution_count": null,
      "outputs": [
        {
          "output_type": "stream",
          "name": "stdout",
          "text": [
            "Model: \"sequential_3\"\n",
            "_________________________________________________________________\n",
            "Layer (type)                 Output Shape              Param #   \n",
            "=================================================================\n",
            "sequential (Sequential)      (None, 224, 224, 3)       0         \n",
            "_________________________________________________________________\n",
            "mobilenetv2_1.00_224 (Functi (None, 7, 7, 1280)        2257984   \n",
            "_________________________________________________________________\n",
            "global_average_pooling2d_2 ( (None, 1280)              0         \n",
            "_________________________________________________________________\n",
            "dropout_4 (Dropout)          (None, 1280)              0         \n",
            "_________________________________________________________________\n",
            "dense_4 (Dense)              (None, 100)               128100    \n",
            "_________________________________________________________________\n",
            "dropout_5 (Dropout)          (None, 100)               0         \n",
            "_________________________________________________________________\n",
            "dense_5 (Dense)              (None, 2)                 202       \n",
            "=================================================================\n",
            "Total params: 2,386,286\n",
            "Trainable params: 128,302\n",
            "Non-trainable params: 2,257,984\n",
            "_________________________________________________________________\n"
          ]
        }
      ]
    },
    {
      "cell_type": "code",
      "source": [
        "model.layers[0].summary()"
      ],
      "metadata": {
        "id": "Azre5Sn9MlBr"
      },
      "execution_count": null,
      "outputs": []
    },
    {
      "cell_type": "code",
      "metadata": {
        "id": "DnyLpWdkxgfL",
        "colab": {
          "base_uri": "https://localhost:8080/"
        },
        "outputId": "18e2500b-a2be-41ea-edb5-468d333fcb37"
      },
      "source": [
        "model.compile(optimizer=tf.keras.optimizers.SGD(lr=0.02, momentum=0.9),\n",
        "              loss='sparse_categorical_crossentropy',\n",
        "              metrics=['accuracy'])\n",
        "\n",
        "history = model.fit(train_ds, epochs=NB_EPOCH, validation_data=val_ds)"
      ],
      "execution_count": null,
      "outputs": [
        {
          "output_type": "stream",
          "name": "stdout",
          "text": [
            "Epoch 1/25\n",
            "17/17 [==============================] - 24s 616ms/step - loss: 0.9254 - accuracy: 0.5630 - val_loss: 0.5790 - val_accuracy: 0.7231\n",
            "Epoch 2/25\n",
            "17/17 [==============================] - 13s 494ms/step - loss: 0.5327 - accuracy: 0.7459 - val_loss: 0.5418 - val_accuracy: 0.6846\n",
            "Epoch 3/25\n",
            "17/17 [==============================] - 13s 499ms/step - loss: 0.4554 - accuracy: 0.7800 - val_loss: 0.4773 - val_accuracy: 0.7231\n",
            "Epoch 4/25\n",
            "17/17 [==============================] - 13s 499ms/step - loss: 0.4034 - accuracy: 0.7887 - val_loss: 0.4687 - val_accuracy: 0.7385\n",
            "Epoch 5/25\n",
            "17/17 [==============================] - 13s 499ms/step - loss: 0.3105 - accuracy: 0.8786 - val_loss: 0.3996 - val_accuracy: 0.8000\n",
            "Epoch 6/25\n",
            "17/17 [==============================] - 13s 499ms/step - loss: 0.3027 - accuracy: 0.8510 - val_loss: 0.3082 - val_accuracy: 0.8923\n",
            "Epoch 7/25\n",
            "17/17 [==============================] - 13s 495ms/step - loss: 0.3097 - accuracy: 0.8780 - val_loss: 0.3581 - val_accuracy: 0.8385\n",
            "Epoch 8/25\n",
            "17/17 [==============================] - 13s 512ms/step - loss: 0.3178 - accuracy: 0.8602 - val_loss: 0.3477 - val_accuracy: 0.8538\n",
            "Epoch 9/25\n",
            "17/17 [==============================] - 13s 492ms/step - loss: 0.2570 - accuracy: 0.8870 - val_loss: 0.3093 - val_accuracy: 0.9000\n",
            "Epoch 10/25\n",
            "17/17 [==============================] - 13s 493ms/step - loss: 0.2201 - accuracy: 0.8984 - val_loss: 0.4290 - val_accuracy: 0.7923\n",
            "Epoch 11/25\n",
            "17/17 [==============================] - 13s 513ms/step - loss: 0.3079 - accuracy: 0.8622 - val_loss: 0.4583 - val_accuracy: 0.7769\n",
            "Epoch 12/25\n",
            "17/17 [==============================] - 13s 504ms/step - loss: 0.3334 - accuracy: 0.8584 - val_loss: 0.3157 - val_accuracy: 0.8615\n",
            "Epoch 13/25\n",
            "17/17 [==============================] - 12s 495ms/step - loss: 0.3125 - accuracy: 0.8809 - val_loss: 0.4230 - val_accuracy: 0.8000\n",
            "Epoch 14/25\n",
            "17/17 [==============================] - 13s 499ms/step - loss: 0.2541 - accuracy: 0.9076 - val_loss: 0.3410 - val_accuracy: 0.8385\n",
            "Epoch 15/25\n",
            "17/17 [==============================] - 13s 495ms/step - loss: 0.2969 - accuracy: 0.8829 - val_loss: 0.5205 - val_accuracy: 0.7462\n",
            "Epoch 16/25\n",
            "17/17 [==============================] - 13s 513ms/step - loss: 0.3066 - accuracy: 0.8507 - val_loss: 0.5008 - val_accuracy: 0.7769\n",
            "Epoch 17/25\n",
            "17/17 [==============================] - 13s 494ms/step - loss: 0.3688 - accuracy: 0.8413 - val_loss: 0.4194 - val_accuracy: 0.7769\n",
            "Epoch 18/25\n",
            "17/17 [==============================] - 13s 496ms/step - loss: 0.2839 - accuracy: 0.8669 - val_loss: 0.3524 - val_accuracy: 0.8615\n",
            "Epoch 19/25\n",
            "17/17 [==============================] - 13s 500ms/step - loss: 0.2722 - accuracy: 0.8793 - val_loss: 0.5406 - val_accuracy: 0.7385\n",
            "Epoch 20/25\n",
            "17/17 [==============================] - 13s 508ms/step - loss: 0.1987 - accuracy: 0.9312 - val_loss: 0.2611 - val_accuracy: 0.8846\n",
            "Epoch 21/25\n",
            "17/17 [==============================] - 12s 494ms/step - loss: 0.3029 - accuracy: 0.8672 - val_loss: 0.3184 - val_accuracy: 0.8462\n",
            "Epoch 22/25\n",
            "17/17 [==============================] - 13s 498ms/step - loss: 0.2891 - accuracy: 0.8598 - val_loss: 0.4327 - val_accuracy: 0.7923\n",
            "Epoch 23/25\n",
            "17/17 [==============================] - 12s 492ms/step - loss: 0.2681 - accuracy: 0.9100 - val_loss: 0.2999 - val_accuracy: 0.9077\n",
            "Epoch 24/25\n",
            "17/17 [==============================] - 13s 520ms/step - loss: 0.3091 - accuracy: 0.8451 - val_loss: 0.3157 - val_accuracy: 0.8923\n",
            "Epoch 25/25\n",
            "17/17 [==============================] - 13s 493ms/step - loss: 0.2450 - accuracy: 0.9069 - val_loss: 0.3163 - val_accuracy: 0.8615\n"
          ]
        }
      ]
    },
    {
      "cell_type": "code",
      "metadata": {
        "id": "jag5mt9WetSw",
        "colab": {
          "base_uri": "https://localhost:8080/"
        },
        "outputId": "645c9540-8fe7-4d75-f025-338e00b75907"
      },
      "source": [
        "model.evaluate(val_ds)"
      ],
      "execution_count": null,
      "outputs": [
        {
          "output_type": "stream",
          "name": "stdout",
          "text": [
            "4/4 [==============================] - 2s 94ms/step - loss: 0.7153 - accuracy: 0.5051\n"
          ]
        },
        {
          "output_type": "execute_result",
          "data": {
            "text/plain": [
              "[0.715300440788269, 0.5050504803657532]"
            ]
          },
          "metadata": {},
          "execution_count": 13
        }
      ]
    },
    {
      "cell_type": "code",
      "metadata": {
        "id": "vfp-QtYLty9x",
        "colab": {
          "base_uri": "https://localhost:8080/",
          "height": 295
        },
        "outputId": "1064d7d1-726b-47c2-9a60-ddb7d2855ebf"
      },
      "source": [
        "# summarize history for accuracy\n",
        "plt.plot(history.history['accuracy'])\n",
        "plt.plot(history.history['val_accuracy'])\n",
        "plt.title('model accuracy')\n",
        "plt.ylabel('accuracy')\n",
        "plt.xlabel('epoch')\n",
        "plt.legend(['train', 'test'], loc='upper left')\n",
        "plt.show()"
      ],
      "execution_count": null,
      "outputs": [
        {
          "output_type": "display_data",
          "data": {
            "image/png": "[encoded data removed]",
            "text/plain": [
              "<Figure size 432x288 with 1 Axes>"
            ]
          },
          "metadata": {
            "needs_background": "light"
          }
        }
      ]
    },
    {
      "cell_type": "code",
      "metadata": {
        "id": "3LRcr7g6t14K",
        "colab": {
          "base_uri": "https://localhost:8080/",
          "height": 295
        },
        "outputId": "40e92e86-a43e-447d-f7be-1fce1c316269"
      },
      "source": [
        "# summarize history for loss\n",
        "plt.plot(history.history['loss'])\n",
        "plt.plot(history.history['val_loss'])\n",
        "plt.title('model loss')\n",
        "plt.ylabel('loss')\n",
        "plt.xlabel('epoch')\n",
        "plt.legend(['train', 'test'], loc='upper left')\n",
        "plt.show()"
      ],
      "execution_count": null,
      "outputs": [
        {
          "output_type": "display_data",
          "data": {
            "image/png": "[encoded data removed]",
            "text/plain": [
              "<Figure size 432x288 with 1 Axes>"
            ]
          },
          "metadata": {
            "needs_background": "light"
          }
        }
      ]
    },
    {
      "cell_type": "code",
      "source": [
        "model.layers.pop(0)\n",
        "#model.layers.pop(0)\n",
        "newInput = tf.keras.layers.Input(batch_shape=(None,224,224,3))\n",
        "newOutputs = model(newInput)\n",
        "newModel = tf.keras.Model(newInput, newOutputs)\n",
        "newModel.summary()"
      ],
      "metadata": {
        "id": "z8BYGB8D6Syf"
      },
      "execution_count": null,
      "outputs": []
    },
    {
      "cell_type": "code",
      "source": [
        "newModel.compile(optimizer=tf.keras.optimizers.SGD(lr=0.0001, momentum=0.9),\n",
        "              loss='sparse_categorical_crossentropy',\n",
        "              metrics=['accuracy'])\n",
        "newModel.evaluate(val_ds)"
      ],
      "metadata": {
        "id": "In1Q9GiM-BkV"
      },
      "execution_count": null,
      "outputs": []
    },
    {
      "cell_type": "code",
      "metadata": {
        "id": "QxFejN5pt3ib",
        "colab": {
          "base_uri": "https://localhost:8080/"
        },
        "outputId": "9cb93dcb-b941-431e-d8d8-623263195892"
      },
      "source": [
        "# Save model\n",
        "OUT_MODEL_PATH= '/content/gdrive/MyDrive/Curso-Jetson/models'\n",
        "model.save(os.path.join(OUT_MODEL_PATH, 'model-final-blinkDetection.hdf5'))\n",
        "model.save(os.path.join(OUT_MODEL_PATH, 'model-final-blinkDetection'))"
      ],
      "execution_count": null,
      "outputs": [
        {
          "output_type": "stream",
          "name": "stdout",
          "text": [
            "INFO:tensorflow:Assets written to: /content/gdrive/MyDrive/Curso-Jetson/models/model-final-blinkDetection/assets\n"
          ]
        }
      ]
    },
    {
      "cell_type": "code",
      "metadata": {
        "id": "GGb1V5o0fWLC",
        "colab": {
          "base_uri": "https://localhost:8080/"
        },
        "outputId": "7fa6d8c5-497a-4c4f-873f-b95b5c4e42c9"
      },
      "source": [
        "!ls $OUT_MODEL_PATH"
      ],
      "execution_count": null,
      "outputs": [
        {
          "output_type": "stream",
          "name": "stdout",
          "text": [
            "model-final-blinkDetection\t model-final-pract1.hdf5\n",
            "model-final-blinkDetection.hdf5  model-final-pract2\n",
            "model-final-pract1\t\t model-final-pract2.hdf5\n"
          ]
        }
      ]
    },
    {
      "cell_type": "code",
      "source": [
        ""
      ],
      "metadata": {
        "id": "fd_GfDcDUW12"
      },
      "execution_count": null,
      "outputs": []
    }
  ]
}